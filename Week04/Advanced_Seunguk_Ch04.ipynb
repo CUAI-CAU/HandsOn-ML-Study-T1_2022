{
 "cells": [
  {
   "cell_type": "code",
   "execution_count": 31,
   "metadata": {},
   "outputs": [
    {
     "name": "stdout",
     "output_type": "stream",
     "text": [
      "The watermark extension is already loaded. To reload it, use:\n",
      "  %reload_ext watermark\n"
     ]
    },
    {
     "name": "stderr",
     "output_type": "stream",
     "text": [
      "UsageError: unrecognized arguments: scipy, sklearn, pandas, matplotlib\n"
     ]
    }
   ],
   "source": [
    "# Version Check 습관들이면 좋을듯   \n",
    "%load_ext watermark\n",
    "%watermark -v -p numpy, scipy, sklearn, pandas, matplotlib"
   ]
  },
  {
   "cell_type": "markdown",
   "metadata": {},
   "source": [
    "## Ch04 모델훈련 \n",
    "### 4.1 선형회귀   "
   ]
  },
  {
   "cell_type": "markdown",
   "metadata": {},
   "source": [
    "#### 4.1.1 정규방정식  "
   ]
  },
  {
   "cell_type": "code",
   "execution_count": 20,
   "metadata": {},
   "outputs": [],
   "source": [
    "import numpy as np \n",
    "import matplotlib.pyplot as plt \n"
   ]
  },
  {
   "cell_type": "code",
   "execution_count": 4,
   "metadata": {},
   "outputs": [],
   "source": [
    "# 선형 데이터 생성 \n",
    "X = 2 * np.random.rand(100, 1)\n",
    "y = 4 + 3 * X + np.random.randn(100, 1) # 4 + 3x_1 + 가우시안 잡음"
   ]
  },
  {
   "cell_type": "markdown",
   "metadata": {},
   "source": [
    "$$ \\hat{\\theta} = (X^{T}X)^{-1}X^{T}y $$"
   ]
  },
  {
   "cell_type": "code",
   "execution_count": 7,
   "metadata": {},
   "outputs": [
    {
     "data": {
      "text/plain": [
       "array([[3.86260567],\n",
       "       [2.93323031]])"
      ]
     },
     "execution_count": 7,
     "metadata": {},
     "output_type": "execute_result"
    }
   ],
   "source": [
    "# 정규방정식 사용 \\theta_hat 계산  \n",
    "X_b = np.c_[np.ones( (100, 1)), X] # 모든 샘플에 x0 = 1 추가 \n",
    "theta_best = np.linalg.inv( X_b.T.dot(X_b) ).dot(X_b.T).dot(y)\n",
    "theta_best\n"
   ]
  },
  {
   "cell_type": "code",
   "execution_count": 18,
   "metadata": {},
   "outputs": [
    {
     "name": "stdout",
     "output_type": "stream",
     "text": [
      "# X_new = \n",
      " [[0]\n",
      " [2]]\n",
      "# X_new_b = \n",
      " [[1. 0.]\n",
      " [1. 2.]]\n",
      "# y_predict = \n",
      " [[3.86260567]\n",
      " [9.72906628]]\n"
     ]
    }
   ],
   "source": [
    "# theta_hat 사용 예측 \n",
    "X_new = np.array( [ [0], [2] ]) # shape = (2,1)\n",
    "X_new_b = np.c_[np.ones( (2,1) ), X_new] # 모든 샘플에 x0 = 1 추가 \n",
    "\n",
    "print('# X_new = \\n {}'.format(X_new))\n",
    "print('# X_new_b = \\n {}'.format(X_new_b))\n",
    "\n",
    "y_predict = X_new_b.dot(theta_best) \n",
    "\n",
    "print('# y_predict = \\n {}'.format(y_predict))"
   ]
  },
  {
   "cell_type": "code",
   "execution_count": 21,
   "metadata": {},
   "outputs": [
    {
     "data": {
      "image/png": "[encoded data removed]",
      "text/plain": [
       "<Figure size 432x288 with 1 Axes>"
      ]
     },
     "metadata": {
      "needs_background": "light"
     },
     "output_type": "display_data"
    }
   ],
   "source": [
    "# 모델 예측 그래프\n",
    "plt.plot(X_new, y_predict, \"r-\") # red line\n",
    "plt.plot(X, y, \"b.\")  # blue dot \n",
    "plt.axis([0, 2, 0, 15]) \n",
    "plt.show()"
   ]
  },
  {
   "cell_type": "code",
   "execution_count": 24,
   "metadata": {},
   "outputs": [
    {
     "name": "stdout",
     "output_type": "stream",
     "text": [
      "[3.86260567] [[2.93323031]]\n",
      "[[3.86260567]\n",
      " [9.72906628]]\n"
     ]
    }
   ],
   "source": [
    "# Scikit-Learn 선형회귀 수행 \n",
    "# 사이킷런은 특성의 가중치 (coef_)와 편향(intercept_)을 분리하여 저장\n",
    "from sklearn.linear_model import LinearRegression\n",
    "lin_reg = LinearRegression() \n",
    "lin_reg.fit(X, y) \n",
    "\n",
    "print(lin_reg.intercept_, lin_reg.coef_) \n",
    "print(lin_reg.predict(X_new)) "
   ]
  },
  {
   "cell_type": "code",
   "execution_count": 25,
   "metadata": {},
   "outputs": [
    {
     "data": {
      "text/plain": [
       "array([[3.86260567],\n",
       "       [2.93323031]])"
      ]
     },
     "execution_count": 25,
     "metadata": {},
     "output_type": "execute_result"
    }
   ],
   "source": [
    "# lstsq: least square \n",
    "theta_best_svd, residuals, rank, s = np.linalg.lstsq(X_b, y, rcond = 1e-6) # ?????\n",
    "theta_best_svd"
   ]
  },
  {
   "cell_type": "markdown",
   "metadata": {},
   "source": [
    "Moore-Penrose Inverse Matrix (pseudoinverse)  \n",
    "$$\\hat{\\theta}\\ = \\ X^{+}y"
   ]
  },
  {
   "cell_type": "code",
   "execution_count": 26,
   "metadata": {},
   "outputs": [
    {
     "data": {
      "text/plain": [
       "array([[3.86260567],\n",
       "       [2.93323031]])"
      ]
     },
     "execution_count": 26,
     "metadata": {},
     "output_type": "execute_result"
    }
   ],
   "source": [
    "np.linalg.pinv(X_b).dot(y)"
   ]
  },
  {
   "cell_type": "markdown",
   "metadata": {},
   "source": [
    "Singular Value Decompostion (SVD) \n",
    "$$X^{+}\\ =\\ V \\Sigma^{+} U^{T}"
   ]
  },
  {
   "cell_type": "markdown",
   "metadata": {},
   "source": [
    "#### 4.1.2 계산 복잡도"
   ]
  },
  {
   "cell_type": "code",
   "execution_count": null,
   "metadata": {},
   "outputs": [],
   "source": []
  },
  {
   "cell_type": "markdown",
   "metadata": {},
   "source": [
    "### 4.2 경사하강법 Gradient Descent\n",
    "* 학습률 Learning Rate  \n",
    "* 볼록함수 Convex function\n",
    "* Local Minima, Global Minima"
   ]
  },
  {
   "cell_type": "markdown",
   "metadata": {},
   "source": [
    "#### 4.2.1 배치 경사 하강법 Batch Gradient Descent"
   ]
  },
  {
   "cell_type": "markdown",
   "metadata": {},
   "source": [
    "Step of Gradient Descent  \n",
    "$$ \\theta^{(next step)}\\ = \\ \\theta - \\eta \\nabla_{\\theta} MSE(\\theta)$$  \n",
    "\n",
    "$$ \\eta = Learning \\  Rate$$"
   ]
  },
  {
   "cell_type": "code",
   "execution_count": 27,
   "metadata": {},
   "outputs": [
    {
     "data": {
      "text/plain": [
       "array([[3.86260567],\n",
       "       [2.93323031]])"
      ]
     },
     "execution_count": 27,
     "metadata": {},
     "output_type": "execute_result"
    }
   ],
   "source": [
    "eta = 0.1 # eta == learning rate \n",
    "n_iterations = 1000\n",
    "m = 100  # 훈련에 있는 샘플수 \n",
    "\n",
    "theta = np.random.randn(2, 1) # 무작위 초기화 from normal  \n",
    "\n",
    "for iteration in range(n_iterations):\n",
    "    gradients = 2/m * X_b.T.dot(X_b.dot(theta) - y) \n",
    "    theta = theta - eta * gradients  \n",
    "\n",
    "theta"
   ]
  },
  {
   "cell_type": "markdown",
   "metadata": {},
   "source": [
    "#### 4.2.2 확률적 경사 하강법  \n",
    "* Learning Rate Schedule  "
   ]
  },
  {
   "cell_type": "code",
   "execution_count": 44,
   "metadata": {},
   "outputs": [
    {
     "data": {
      "text/plain": [
       "array([[3.8414408 ],\n",
       "       [2.95076286]])"
      ]
     },
     "execution_count": 44,
     "metadata": {},
     "output_type": "execute_result"
    }
   ],
   "source": [
    "# simple learing rate schedule  \n",
    "n_epochs = 50  \n",
    "t0, t1 = 5, 50 # Parameter of Learning Rate Schedule  \n",
    "m = 100  # 훈련에 있는 샘플수 \n",
    "\n",
    "def learning_schedule(t):\n",
    "    return t0 / (t + t1) \n",
    "\n",
    "theta = np.random.randn(2,1) # 무작위 초기화 \n",
    "\n",
    "for epoch in range(n_epochs):\n",
    "    for i in range(m):\n",
    "        \n",
    "        random_index = np.random.randint(m) \n",
    "        \n",
    "        xi = X_b[random_index : random_index + 1]\n",
    "        yi = y[random_index : random_index + 1]\n",
    "\n",
    "        gradients = 2 * xi.T.dot(xi.dot(theta) - yi)\n",
    "        eta = learning_schedule(epoch * m + i) \n",
    "        theta = theta - eta * gradients \n",
    "\n",
    "theta"
   ]
  },
  {
   "cell_type": "markdown",
   "metadata": {},
   "source": []
  }
 ],
 "metadata": {
  "interpreter": {
   "hash": "766ec0f0f499bb43cc89274c2b0098b93484f36b6fb087dcfa295499c8fc9698"
  },
  "kernelspec": {
   "display_name": "Python 3 (ipykernel)",
   "language": "python",
   "name": "python3"
  },
  "language_info": {
   "codemirror_mode": {
    "name": "ipython",
    "version": 3
   },
   "file_extension": ".py",
   "mimetype": "text/x-python",
   "name": "python",
   "nbconvert_exporter": "python",
   "pygments_lexer": "ipython3",
   "version": "3.9.12"
  }
 },
 "nbformat": 4,
 "nbformat_minor": 2
}
